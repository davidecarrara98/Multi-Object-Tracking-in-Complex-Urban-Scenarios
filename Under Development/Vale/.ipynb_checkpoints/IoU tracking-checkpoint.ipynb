{
 "cells": [
  {
   "cell_type": "code",
   "execution_count": 1,
   "metadata": {},
   "outputs": [],
   "source": [
    "import numpy as np"
   ]
  },
  {
   "cell_type": "code",
   "execution_count": 3,
   "metadata": {},
   "outputs": [],
   "source": [
    "def belongs_to(point, box):\n",
    "    #condition with various cosines\n",
    "    return 0\n",
    "def compute_approx_IoU(box1, box2, attempts):\n",
    "    pos1 = box1[0]\n",
    "    pos2 = box2[0]\n",
    "    length1 = box1[1]\n",
    "    width1 = box1[2]\n",
    "    depth1 = box1[3]\n",
    "    length2 = box2[1]\n",
    "    width2 = box2[2]\n",
    "    depth2 = box2[3]\n",
    "    diag1 = np.sqrt(length1**2+width1**2+depth1**2)\n",
    "    diag2 = np.sqrt(length2**2+width2**2+depth2**2)\n",
    "    if np.sqrt((pos1[0]-pos2[0])**2+(pos1[1]-pos2[1])**2+(pos1[2]-pos2[2])**2)>max(diag1, diag2):\n",
    "        return 0\n",
    "    intersection = 0\n",
    "    for i in attempts:\n",
    "        u = np.random.uniform(-1,1,size=3) * np.array(length1,width1,depth1)/2 + np.array(pos1)\n",
    "        if belongs_to(u, box2):\n",
    "            intersection +=1\n",
    "        u = np.random.uniform(-1,1,size=3) * np.array(length2,width2,depth2)/2 + np.array(pos2)\n",
    "        if belongs_to(u, box1):\n",
    "            intersection +=1\n",
    "    return intersection/2/attempts"
   ]
  }
 ],
 "metadata": {
  "kernelspec": {
   "display_name": "Python 3",
   "language": "python",
   "name": "python3"
  },
  "language_info": {
   "codemirror_mode": {
    "name": "ipython",
    "version": 3
   },
   "file_extension": ".py",
   "mimetype": "text/x-python",
   "name": "python",
   "nbconvert_exporter": "python",
   "pygments_lexer": "ipython3",
   "version": "3.8.3"
  }
 },
 "nbformat": 4,
 "nbformat_minor": 4
}
