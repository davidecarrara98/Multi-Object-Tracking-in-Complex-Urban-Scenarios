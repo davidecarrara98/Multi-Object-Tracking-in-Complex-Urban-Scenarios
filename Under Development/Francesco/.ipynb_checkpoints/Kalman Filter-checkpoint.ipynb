{
 "cells": [
  {
   "cell_type": "markdown",
   "metadata": {},
   "source": [
    "# Implementation of some Kalman Filter examples using FilterPy\n",
    "\n",
    "https://filterpy.readthedocs.io/en/latest/kalman/KalmanFilter.html\n",
    "\n",
    "https://github.com/rlabbe/filterpy\n"
   ]
  },
  {
   "cell_type": "markdown",
   "metadata": {},
   "source": [
    "### Linear Kalman Filter"
   ]
  },
  {
   "cell_type": "code",
   "execution_count": 4,
   "metadata": {},
   "outputs": [],
   "source": [
    "import filterpy\n",
    "from filterpy.common import Q_discrete_white_noise\n",
    "import numpy as np"
   ]
  },
  {
   "cell_type": "code",
   "execution_count": 11,
   "metadata": {},
   "outputs": [],
   "source": [
    "from filterpy.kalman import KalmanFilter\n",
    "\n",
    "#implementing constant acceleration model. Matrix F can be recycled as it does not change\n",
    "f = KalmanFilter (dim_x=9, dim_z=3)\n",
    "f.x = np.array([0.,0.,0.,0.5,0.5,0.5,0.1,0.1,0.1])\n",
    "dt = 0.01\n",
    "f.F = np.array([[1., dt, 0.5*dt**2, 0., 0., 0., 0., 0., 0.], [0, 1, dt, 0., 0., 0., 0., 0., 0. ], [0.,0.,1., 0., 0., 0., 0., 0., 0.],\n",
    "               [0.,0.,0.,1.,dt,0.5*dt**2,0.,0.,0.],[0.,0.,0.,0.,1.,dt,0.,0.,0.],[0.,0.,0.,0.,0.,1.,0.,0.,0.],\n",
    "               [0.,0.,0.,0.,0.,0.,1.,dt,0.5*dt**2],[0.,0.,0.,0.,0.,0.,0.,1.,dt], [0.,0.,0.,0.,0.,0.,0.,0.,1.]])\n",
    "f.H = np.array([[1.,0.,0., 0., 0., 0., 0., 0., 0.],[0.,0., 0.,1., 0., 0., 0., 0., 0.],[0.,0., 0., 0., 0., 0.,1., 0., 0.]])\n",
    "f.P *= 0.1\n",
    "f.Q = np.eye(9)*0.1\n",
    "f.R = np.eye(3)\n"
   ]
  },
  {
   "cell_type": "code",
   "execution_count": 12,
   "metadata": {},
   "outputs": [],
   "source": [
    "obs_target = np.array([1.,0.7, 0.4])\n",
    "f.predict()\n",
    "f.update(obs_target)"
   ]
  },
  {
   "cell_type": "code",
   "execution_count": 13,
   "metadata": {},
   "outputs": [
    {
     "data": {
      "text/plain": [
       "array([1.66673611e-01, 8.33368055e-04, 4.16663194e-06, 5.37522187e-01,\n",
       "       5.05162486e-01, 5.00000812e-01, 1.50839576e-01, 1.01249173e-01,\n",
       "       1.00001246e-01])"
      ]
     },
     "execution_count": 13,
     "metadata": {},
     "output_type": "execute_result"
    }
   ],
   "source": [
    "f.x #state has been updated"
   ]
  },
  {
   "cell_type": "markdown",
   "metadata": {},
   "source": [
    "### Extended Kalman Filter\n",
    "\n",
    "This might not be what we intend it to be since it takes HJacobian, not F\n"
   ]
  },
  {
   "cell_type": "code",
   "execution_count": null,
   "metadata": {},
   "outputs": [],
   "source": [
    "from filterpy.kalman import ExtendedKalmanFilter\n",
    "f = ExtendedKalmanFilter(dim_x=6, dim_z=3)\n",
    "f.x = np.array([0.,0.,0.,0.5,0.5,0.5]) #da pensare\n"
   ]
  },
  {
   "cell_type": "code",
   "execution_count": 16,
   "metadata": {},
   "outputs": [],
   "source": [
    "def FJacobian(x, beta=1., L=1.):\n",
    "    theta = x[4]\n",
    "    v = x[3]\n",
    "    delta = x[5]\n",
    "    return np.array([[1., 0., 0., np.cos(beta+theta), -v * np.sin(beta+theta), 0.], [0, 1, 0.,np.sin(beta+theta), v * np.cos(beta+theta), 0. ], [0.,0.,1., 0., 0., 0.],\n",
    "               [0.,0.,0.,1.,0.,0.],[0.,0.,0.,(np.tan(delta)+np.cos(theta))/L,1.-v/L * np.tan(delta) * np.sin(theta), v/L*np.cos(theta)*(1+np.tan(delta)**2)],[0.,0.,0.,0.,0.,1.]])"
   ]
  },
  {
   "cell_type": "code",
   "execution_count": 17,
   "metadata": {},
   "outputs": [
    {
     "data": {
      "text/plain": [
       "array([[ 1.        ,  0.        ,  0.        , -0.41614684, -0.90929743,\n",
       "         0.        ],\n",
       "       [ 0.        ,  1.        ,  0.        ,  0.90929743, -0.41614684,\n",
       "         0.        ],\n",
       "       [ 0.        ,  0.        ,  1.        ,  0.        ,  0.        ,\n",
       "         0.        ],\n",
       "       [ 0.        ,  0.        ,  0.        ,  1.        ,  0.        ,\n",
       "         0.        ],\n",
       "       [ 0.        ,  0.        ,  0.        ,  2.09771003, -0.31051341,\n",
       "         1.85081572],\n",
       "       [ 0.        ,  0.        ,  0.        ,  0.        ,  0.        ,\n",
       "         1.        ]])"
      ]
     },
     "execution_count": 17,
     "metadata": {},
     "output_type": "execute_result"
    }
   ],
   "source": []
  },
  {
   "cell_type": "markdown",
   "metadata": {},
   "source": [
    "Actually we may use the filterpy functions to find EKF, however that requires more work. See the book https://drive.google.com/file/d/0By_SW19c1BfhSVFzNHc0SjduNzg/view?resourcekey=0-41olC9ht9xE3wQe2zHZ45A\n",
    "pag 407."
   ]
  },
  {
   "cell_type": "code",
   "execution_count": null,
   "metadata": {},
   "outputs": [],
   "source": []
  }
 ],
 "metadata": {
  "kernelspec": {
   "display_name": "Python 3",
   "language": "python",
   "name": "python3"
  },
  "language_info": {
   "codemirror_mode": {
    "name": "ipython",
    "version": 3
   },
   "file_extension": ".py",
   "mimetype": "text/x-python",
   "name": "python",
   "nbconvert_exporter": "python",
   "pygments_lexer": "ipython3",
   "version": "3.8.3"
  }
 },
 "nbformat": 4,
 "nbformat_minor": 4
}
