{
 "cells": [
  {
   "cell_type": "code",
   "execution_count": 1,
   "id": "69e496aa",
   "metadata": {},
   "outputs": [],
   "source": [
    "import h5py\n",
    "import numpy as np\n",
    "import os\n",
    "import pandas as pd\n",
    "from matplotlib import pyplot as plt\n",
    "from tqdm import tqdm\n",
    "from PIL import Image\n",
    "import scipy\n",
    "from scipy.spatial.distance import cdist\n",
    "from filterpy.kalman import KalmanFilter\n",
    "from copy import copy\n",
    "from scipy import stats\n",
    "pd.options.mode.chained_assignment = None\n",
    "import time, random"
   ]
  },
  {
   "cell_type": "code",
   "execution_count": 2,
   "id": "2e03b4f2",
   "metadata": {},
   "outputs": [],
   "source": [
    "OT = h5py.File('../../Data/Koelliken_OfflineTracks_Complete_11-21-201911454711-21-2019114647.h5')"
   ]
  },
  {
   "cell_type": "code",
   "execution_count": 3,
   "id": "e0a410a8",
   "metadata": {},
   "outputs": [],
   "source": [
    "# upload data \n",
    "hdf5data_109 = h5py.File('../../Data/data_109.h5', 'r')\n",
    "hdf5data_130 = h5py.File('../../Data/data_130.h5', 'r')\n",
    "hdf5data_142 = h5py.File('../../Data/data_142.h5', 'r')\n",
    "hdf5data_143 = h5py.File('../../Data/data_143.h5', 'r')"
   ]
  },
  {
   "cell_type": "code",
   "execution_count": 5,
   "id": "a34e2fd2",
   "metadata": {},
   "outputs": [
    {
     "data": {
      "text/plain": [
       "array(<KeysViewHDF5 ['Acceleration_ms2', 'Attributes', 'Heading_rad', 'Height_m', 'Lat_sweref99', 'Length_m', 'Lon_sweref99', 'Object_class', 'Predictions_time', 'Predictions_x', 'Predictions_y', 'Timestamps_UNIX', 'TrackHasAccelerationOver10', 'TrackHasAccelerationOver15', 'TrackHasHeadingDifferenceAbovePI_6', 'TrackHasSpeedOver500', 'TrackIsNotComplete', 'TrackIsRealistic', 'Velocity_ms', 'Width_m', 'X_local_coordinate_system', 'Y_local_coordinate_system', 'Z_local_coordinate_system']>,\n",
       "      dtype=object)"
      ]
     },
     "execution_count": 5,
     "metadata": {},
     "output_type": "execute_result"
    }
   ],
   "source": [
    "np.array(OT['Tracks']['0']['States'].keys())"
   ]
  },
  {
   "cell_type": "code",
   "execution_count": 24,
   "id": "3aaecd09",
   "metadata": {},
   "outputs": [],
   "source": [
    "def df_tracks(h5data):\n",
    "    \n",
    "    df = pd.DataFrame(columns = ['Timestamp', 'x', 'y', 'z', 'ID'])\n",
    "    for ID in h5data['Tracks'].keys():\n",
    "        \n",
    "        timestamps = h5data['Tracks'][ID]['States']['Timestamps_UNIX']\n",
    "        x = h5data['Tracks'][ID]['States']['X_local_coordinate_system']\n",
    "        y = h5data['Tracks'][ID]['States']['Y_local_coordinate_system']\n",
    "        z = h5data['Tracks'][ID]['States']['Z_local_coordinate_system']\n",
    "  \n",
    "        ddf = pd.DataFrame()\n",
    "        ddf['Timestamp'] = timestamps\n",
    "        ddf['x'] = x\n",
    "        ddf['y'] = y\n",
    "        ddf['z'] = z\n",
    "        ddf['ID'] = int(ID)\n",
    "        \n",
    "        df = df.append(ddf)\n",
    "        \n",
    "    return df"
   ]
  },
  {
   "cell_type": "code",
   "execution_count": 25,
   "id": "29605ad9",
   "metadata": {},
   "outputs": [],
   "source": [
    "df = df_tracks(OT)"
   ]
  },
  {
   "cell_type": "code",
   "execution_count": 27,
   "id": "0cfb8f2b",
   "metadata": {},
   "outputs": [
    {
     "data": {
      "text/html": [
       "<div>\n",
       "<style scoped>\n",
       "    .dataframe tbody tr th:only-of-type {\n",
       "        vertical-align: middle;\n",
       "    }\n",
       "\n",
       "    .dataframe tbody tr th {\n",
       "        vertical-align: top;\n",
       "    }\n",
       "\n",
       "    .dataframe thead th {\n",
       "        text-align: right;\n",
       "    }\n",
       "</style>\n",
       "<table border=\"1\" class=\"dataframe\">\n",
       "  <thead>\n",
       "    <tr style=\"text-align: right;\">\n",
       "      <th></th>\n",
       "      <th>Timestamp</th>\n",
       "      <th>x</th>\n",
       "      <th>y</th>\n",
       "      <th>z</th>\n",
       "      <th>ID</th>\n",
       "    </tr>\n",
       "  </thead>\n",
       "  <tbody>\n",
       "    <tr>\n",
       "      <th>0</th>\n",
       "      <td>1.574333e+09</td>\n",
       "      <td>26.178536</td>\n",
       "      <td>8.997992</td>\n",
       "      <td>-0.880969</td>\n",
       "      <td>0</td>\n",
       "    </tr>\n",
       "    <tr>\n",
       "      <th>1</th>\n",
       "      <td>1.574333e+09</td>\n",
       "      <td>26.097504</td>\n",
       "      <td>9.069481</td>\n",
       "      <td>-0.304862</td>\n",
       "      <td>0</td>\n",
       "    </tr>\n",
       "    <tr>\n",
       "      <th>2</th>\n",
       "      <td>1.574333e+09</td>\n",
       "      <td>26.040671</td>\n",
       "      <td>9.127790</td>\n",
       "      <td>0.178573</td>\n",
       "      <td>0</td>\n",
       "    </tr>\n",
       "    <tr>\n",
       "      <th>3</th>\n",
       "      <td>1.574333e+09</td>\n",
       "      <td>26.006357</td>\n",
       "      <td>9.173911</td>\n",
       "      <td>0.575078</td>\n",
       "      <td>0</td>\n",
       "    </tr>\n",
       "    <tr>\n",
       "      <th>4</th>\n",
       "      <td>1.574333e+09</td>\n",
       "      <td>25.992885</td>\n",
       "      <td>9.208831</td>\n",
       "      <td>0.890396</td>\n",
       "      <td>0</td>\n",
       "    </tr>\n",
       "  </tbody>\n",
       "</table>\n",
       "</div>"
      ],
      "text/plain": [
       "      Timestamp          x         y         z ID\n",
       "0  1.574333e+09  26.178536  8.997992 -0.880969  0\n",
       "1  1.574333e+09  26.097504  9.069481 -0.304862  0\n",
       "2  1.574333e+09  26.040671  9.127790  0.178573  0\n",
       "3  1.574333e+09  26.006357  9.173911  0.575078  0\n",
       "4  1.574333e+09  25.992885  9.208831  0.890396  0"
      ]
     },
     "execution_count": 27,
     "metadata": {},
     "output_type": "execute_result"
    }
   ],
   "source": [
    "df.head()"
   ]
  }
 ],
 "metadata": {
  "kernelspec": {
   "display_name": "Python 3 (ipykernel)",
   "language": "python",
   "name": "python3"
  },
  "language_info": {
   "codemirror_mode": {
    "name": "ipython",
    "version": 3
   },
   "file_extension": ".py",
   "mimetype": "text/x-python",
   "name": "python",
   "nbconvert_exporter": "python",
   "pygments_lexer": "ipython3",
   "version": "3.9.7"
  }
 },
 "nbformat": 4,
 "nbformat_minor": 5
}
