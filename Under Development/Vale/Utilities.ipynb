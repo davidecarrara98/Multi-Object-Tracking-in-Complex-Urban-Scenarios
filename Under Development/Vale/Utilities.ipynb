{
 "cells": [
  {
   "cell_type": "code",
   "execution_count": 39,
   "metadata": {},
   "outputs": [],
   "source": [
    "import h5py\n",
    "import numpy as np\n",
    "import os\n",
    "import pandas as pd\n",
    "from matplotlib import pyplot as plt\n",
    "from tqdm import tqdm\n",
    "from PIL import Image\n",
    "import scipy\n",
    "from scipy.spatial.distance import cdist"
   ]
  },
  {
   "cell_type": "code",
   "execution_count": 13,
   "metadata": {},
   "outputs": [],
   "source": [
    "hdf5data = h5py.File('../../Data/data_109.h5', 'r')"
   ]
  },
  {
   "cell_type": "code",
   "execution_count": 23,
   "metadata": {},
   "outputs": [
    {
     "data": {
      "text/plain": [
       "((-11.14840948, 15.36387945, -0.94192017), 1.17728508, 0.56196702, 1.33484852, 0.6319266)"
      ]
     },
     "execution_count": 23,
     "metadata": {},
     "output_type": "execute_result"
    }
   ],
   "source": [
    "np.asarray(hdf5data['Sequence'][str(0)]['Detections'])[0]"
   ]
  },
  {
   "cell_type": "code",
   "execution_count": 30,
   "metadata": {},
   "outputs": [
    {
     "data": {
      "text/plain": [
       "array([1, 3, 3])"
      ]
     },
     "execution_count": 30,
     "metadata": {},
     "output_type": "execute_result"
    }
   ],
   "source": [
    "a = np.array([1,2,3,4,5])\n",
    "a[np.argmin(np.array([[1,2,3], [3,2, -1], [3,2,-1]]), axis=1)]"
   ]
  },
  {
   "cell_type": "code",
   "execution_count": 107,
   "metadata": {},
   "outputs": [],
   "source": [
    "def link_detections_tracks(detections, tracks):\n",
    "    \n",
    "    coord_detections = [np.array(vals[0].tolist()) for vals in detections]\n",
    "    coord_tracks = [np.array(vals[1].tolist()) for vals in tracks]\n",
    "    vel_tracks = [vals[2] for vals in tracks]\n",
    "    track_id = [vals[0] for vals in tracks]\n",
    "    object_type = [vals[3] for vals in tracks]\n",
    "    status_tracks = [vals[4] for vals in tracks]\n",
    "    \n",
    "    # for the time being, let us associate the closest bounding box, even if it is assigned more than once\n",
    "    \n",
    "    dists = cdist(coord_tracks, coord_detections, 'euclidean')\n",
    "    print(dists)\n",
    "    associations = np.argmin(dists, axis=1)\n",
    "    \n",
    "    associations = associations.tolist()\n",
    "    associated_detections = detections[associations]\n",
    "    coord_detections = coord_detections[associations]\n",
    "    length_box = [vals[1] for vals in associated_detections]\n",
    "    width_box = [vals[2] for vals in associated_detections]\n",
    "    height_box = [vals[3] for vals in associated_detections]\n",
    "    angle_box = [vals[4] for vals in associated_detections]\n",
    "    \n",
    "    \n",
    "    \n",
    "    returndf = pd.DataFrame()\n",
    "    returndf[\"X_track\"] = coord_tracks[0]\n",
    "    returndf[\"Y_track\"] = coord_tracks[1]\n",
    "    returndf[\"Z_track\"] = coord_tracks[2]\n",
    "    returndf[\"vx_track\"] = vel_tracks[0]\n",
    "    returndf[\"vy_track\"] = vel_tracks[1]\n",
    "    returndf[\"vz_track\"] = vel_tracks[2]\n",
    "    returndf[\"track_id\"] = track_id\n",
    "    returndf[\"obj_type\"] = object_type\n",
    "    returndf[\"track_status\"] = status_tracks\n",
    "    \n",
    "    returndf[\"X_box\"] = coord_detections[0]\n",
    "    returndf[\"Y_box\"] = coord_detections[1]\n",
    "    returndf[\"Z_box\"] = coord_detections[2]\n",
    "    returndf[\"length_box\"] = length_box\n",
    "    returndf[\"width_box\"] = width_box\n",
    "    returndf[\"height_box\"] = height_box\n",
    "    returndf[\"angle_box\"] = angle_box\n",
    "    \n",
    "    return returndf"
   ]
  },
  {
   "cell_type": "code",
   "execution_count": 101,
   "metadata": {},
   "outputs": [],
   "source": [
    "def h5_to_df(h5data):\n",
    "    \n",
    "    timestamps = h5data['Timestamp']\n",
    "    df = pd.DataFrame()\n",
    "    \n",
    "    for c, t in enumerate(timestamps):\n",
    "        d = h5data['Sequence'][str(c)]\n",
    "        track = np.asarray(d['Tracks'])\n",
    "        detection = np.asarray(d['Detections'])\n",
    "        row = link_detections_tracks(detection, track)\n",
    "        append_df = link_detections_tracks(detection, track)\n",
    "        append_df['timestamp'] = t\n",
    "        df.append(append_df)\n",
    "    return df"
   ]
  },
  {
   "cell_type": "code",
   "execution_count": 108,
   "metadata": {},
   "outputs": [
    {
     "name": "stdout",
     "output_type": "stream",
     "text": [
      "[[20.83864637 17.72777091  3.66436921  0.05500284]\n",
      " [ 0.03151321  3.96186173 19.35093508 20.79398994]\n",
      " [ 3.8168025   0.16081516 16.00058395 17.81576004]\n",
      " [ 4.63344793  0.70008351 15.18096399 17.05366337]\n",
      " [19.36202414 15.86695341  0.02673758  3.66837846]]\n",
      "[3, 0, 1, 1, 2]\n"
     ]
    },
    {
     "ename": "TypeError",
     "evalue": "list indices must be integers or slices, not list",
     "output_type": "error",
     "traceback": [
      "\u001b[1;31m---------------------------------------------------------------------------\u001b[0m",
      "\u001b[1;31mTypeError\u001b[0m                                 Traceback (most recent call last)",
      "\u001b[1;32m<ipython-input-108-1420ad8e8449>\u001b[0m in \u001b[0;36m<module>\u001b[1;34m\u001b[0m\n\u001b[1;32m----> 1\u001b[1;33m \u001b[0mdf\u001b[0m \u001b[1;33m=\u001b[0m \u001b[0mh5_to_df\u001b[0m\u001b[1;33m(\u001b[0m\u001b[0mhdf5data\u001b[0m\u001b[1;33m)\u001b[0m\u001b[1;33m\u001b[0m\u001b[1;33m\u001b[0m\u001b[0m\n\u001b[0m",
      "\u001b[1;32m<ipython-input-101-3bcb39f1c2dc>\u001b[0m in \u001b[0;36mh5_to_df\u001b[1;34m(h5data)\u001b[0m\n\u001b[0;32m      8\u001b[0m         \u001b[0mtrack\u001b[0m \u001b[1;33m=\u001b[0m \u001b[0mnp\u001b[0m\u001b[1;33m.\u001b[0m\u001b[0masarray\u001b[0m\u001b[1;33m(\u001b[0m\u001b[0md\u001b[0m\u001b[1;33m[\u001b[0m\u001b[1;34m'Tracks'\u001b[0m\u001b[1;33m]\u001b[0m\u001b[1;33m)\u001b[0m\u001b[1;33m\u001b[0m\u001b[1;33m\u001b[0m\u001b[0m\n\u001b[0;32m      9\u001b[0m         \u001b[0mdetection\u001b[0m \u001b[1;33m=\u001b[0m \u001b[0mnp\u001b[0m\u001b[1;33m.\u001b[0m\u001b[0masarray\u001b[0m\u001b[1;33m(\u001b[0m\u001b[0md\u001b[0m\u001b[1;33m[\u001b[0m\u001b[1;34m'Detections'\u001b[0m\u001b[1;33m]\u001b[0m\u001b[1;33m)\u001b[0m\u001b[1;33m\u001b[0m\u001b[1;33m\u001b[0m\u001b[0m\n\u001b[1;32m---> 10\u001b[1;33m         \u001b[0mrow\u001b[0m \u001b[1;33m=\u001b[0m \u001b[0mlink_detections_tracks\u001b[0m\u001b[1;33m(\u001b[0m\u001b[0mdetection\u001b[0m\u001b[1;33m,\u001b[0m \u001b[0mtrack\u001b[0m\u001b[1;33m)\u001b[0m\u001b[1;33m\u001b[0m\u001b[1;33m\u001b[0m\u001b[0m\n\u001b[0m\u001b[0;32m     11\u001b[0m         \u001b[0mappend_df\u001b[0m \u001b[1;33m=\u001b[0m \u001b[0mlink_detections_tracks\u001b[0m\u001b[1;33m(\u001b[0m\u001b[0mdetection\u001b[0m\u001b[1;33m,\u001b[0m \u001b[0mtrack\u001b[0m\u001b[1;33m)\u001b[0m\u001b[1;33m\u001b[0m\u001b[1;33m\u001b[0m\u001b[0m\n\u001b[0;32m     12\u001b[0m         \u001b[0mappend_df\u001b[0m\u001b[1;33m[\u001b[0m\u001b[1;34m'timestamp'\u001b[0m\u001b[1;33m]\u001b[0m \u001b[1;33m=\u001b[0m \u001b[0mt\u001b[0m\u001b[1;33m\u001b[0m\u001b[1;33m\u001b[0m\u001b[0m\n",
      "\u001b[1;32m<ipython-input-107-a63ecd7db2c7>\u001b[0m in \u001b[0;36mlink_detections_tracks\u001b[1;34m(detections, tracks)\u001b[0m\n\u001b[0;32m     17\u001b[0m     \u001b[0mprint\u001b[0m\u001b[1;33m(\u001b[0m\u001b[0massociations\u001b[0m\u001b[1;33m)\u001b[0m\u001b[1;33m\u001b[0m\u001b[1;33m\u001b[0m\u001b[0m\n\u001b[0;32m     18\u001b[0m     \u001b[0massociated_detections\u001b[0m \u001b[1;33m=\u001b[0m \u001b[0mdetections\u001b[0m\u001b[1;33m[\u001b[0m\u001b[0massociations\u001b[0m\u001b[1;33m]\u001b[0m\u001b[1;33m\u001b[0m\u001b[1;33m\u001b[0m\u001b[0m\n\u001b[1;32m---> 19\u001b[1;33m     \u001b[0mcoord_detections\u001b[0m \u001b[1;33m=\u001b[0m \u001b[0mcoord_detections\u001b[0m\u001b[1;33m[\u001b[0m\u001b[0massociations\u001b[0m\u001b[1;33m]\u001b[0m\u001b[1;33m\u001b[0m\u001b[1;33m\u001b[0m\u001b[0m\n\u001b[0m\u001b[0;32m     20\u001b[0m     \u001b[0mlength_box\u001b[0m \u001b[1;33m=\u001b[0m \u001b[1;33m[\u001b[0m\u001b[0mvals\u001b[0m\u001b[1;33m[\u001b[0m\u001b[1;36m1\u001b[0m\u001b[1;33m]\u001b[0m \u001b[1;32mfor\u001b[0m \u001b[0mvals\u001b[0m \u001b[1;32min\u001b[0m \u001b[0massociated_detections\u001b[0m\u001b[1;33m]\u001b[0m\u001b[1;33m\u001b[0m\u001b[1;33m\u001b[0m\u001b[0m\n\u001b[0;32m     21\u001b[0m     \u001b[0mwidth_box\u001b[0m \u001b[1;33m=\u001b[0m \u001b[1;33m[\u001b[0m\u001b[0mvals\u001b[0m\u001b[1;33m[\u001b[0m\u001b[1;36m2\u001b[0m\u001b[1;33m]\u001b[0m \u001b[1;32mfor\u001b[0m \u001b[0mvals\u001b[0m \u001b[1;32min\u001b[0m \u001b[0massociated_detections\u001b[0m\u001b[1;33m]\u001b[0m\u001b[1;33m\u001b[0m\u001b[1;33m\u001b[0m\u001b[0m\n",
      "\u001b[1;31mTypeError\u001b[0m: list indices must be integers or slices, not list"
     ]
    }
   ],
   "source": [
    "df = h5_to_df(hdf5data)"
   ]
  },
  {
   "cell_type": "code",
   "execution_count": 85,
   "metadata": {},
   "outputs": [
    {
     "name": "stdout",
     "output_type": "stream",
     "text": [
      "<class 'numpy.ndarray'>\n"
     ]
    }
   ],
   "source": [
    "c=0\n",
    "d = hdf5data['Sequence'][str(c)]\n",
    "track = np.asarray(d['Tracks'])\n",
    "detection = np.asarray(d['Detections'])\n",
    "\n",
    "coord_detections = [np.asarray(vals[0].tolist()) for vals in detection]\n",
    "coord_tracks = [np.asarray(vals[1].tolist()) for vals in track]\n",
    "dists = cdist(coord_tracks, coord_detections, 'euclidean')\n",
    "print(type(dists))"
   ]
  }
 ],
 "metadata": {
  "kernelspec": {
   "display_name": "Python 3",
   "language": "python",
   "name": "python3"
  },
  "language_info": {
   "codemirror_mode": {
    "name": "ipython",
    "version": 3
   },
   "file_extension": ".py",
   "mimetype": "text/x-python",
   "name": "python",
   "nbconvert_exporter": "python",
   "pygments_lexer": "ipython3",
   "version": "3.8.3"
  }
 },
 "nbformat": 4,
 "nbformat_minor": 5
}
