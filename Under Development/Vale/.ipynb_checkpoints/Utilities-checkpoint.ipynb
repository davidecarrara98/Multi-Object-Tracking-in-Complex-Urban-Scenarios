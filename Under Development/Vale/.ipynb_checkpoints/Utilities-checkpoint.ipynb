{
 "cells": [
  {
   "cell_type": "markdown",
   "metadata": {},
   "source": [
    "# Some functions performing useful data preprocessing"
   ]
  },
  {
   "cell_type": "code",
   "execution_count": 1,
   "metadata": {},
   "outputs": [],
   "source": [
    "import h5py\n",
    "import numpy as np\n",
    "import os\n",
    "import pandas as pd\n",
    "from matplotlib import pyplot as plt\n",
    "from tqdm import tqdm\n",
    "from PIL import Image\n",
    "import scipy\n",
    "from scipy.spatial.distance import cdist"
   ]
  },
  {
   "cell_type": "markdown",
   "metadata": {},
   "source": [
    "### Transform data from all cameras into a dataframe containing all features"
   ]
  },
  {
   "cell_type": "code",
   "execution_count": 93,
   "metadata": {},
   "outputs": [],
   "source": [
    "hdf5data = h5py.File('../../Data/data_109.h5', 'r')"
   ]
  },
  {
   "cell_type": "code",
   "execution_count": 23,
   "metadata": {},
   "outputs": [
    {
     "data": {
      "text/plain": [
       "((-11.14840948, 15.36387945, -0.94192017), 1.17728508, 0.56196702, 1.33484852, 0.6319266)"
      ]
     },
     "execution_count": 23,
     "metadata": {},
     "output_type": "execute_result"
    }
   ],
   "source": [
    "# np.asarray(hdf5data['Sequence'][str(0)]['Detections'])[0]"
   ]
  },
  {
   "cell_type": "code",
   "execution_count": 30,
   "metadata": {},
   "outputs": [
    {
     "data": {
      "text/plain": [
       "array([1, 3, 3])"
      ]
     },
     "execution_count": 30,
     "metadata": {},
     "output_type": "execute_result"
    }
   ],
   "source": [
    "# a = np.array([1,2,3,4,5])\n",
    "# a[np.argmin(np.array([[1,2,3], [3,2, -1], [3,2,-1]]), axis=1)]"
   ]
  },
  {
   "cell_type": "code",
   "execution_count": 49,
   "metadata": {},
   "outputs": [],
   "source": [
    "def link_detections_tracks(detections, tracks):\n",
    "    \n",
    "    coord_detections = [np.array(vals[0].tolist()) for vals in detections]\n",
    "    coord_tracks = [np.array(vals[1].tolist()) for vals in tracks]\n",
    "    vel_tracks = [np.array(vals[2].tolist()) for vals in tracks]\n",
    "    track_id = [vals[0].tolist() for vals in tracks]\n",
    "    object_type = [vals[3] for vals in tracks]\n",
    "    status_tracks = [vals[4] for vals in tracks]\n",
    "    \n",
    "    # for the time being, let us associate the closest bounding box, even if it is assigned more than once\n",
    "    \n",
    "    dists = cdist(coord_tracks, coord_detections, 'euclidean')\n",
    "#     print(dists)\n",
    "    associations = np.argmin(dists, axis=1)\n",
    "    \n",
    "    associations = associations.tolist()\n",
    "    associated_detections = [detections[i] for i in associations]\n",
    "    coord_detections = [coord_detections[i] for i in associations]\n",
    "    length_box = [vals[1] for vals in associated_detections]\n",
    "    width_box = [vals[2] for vals in associated_detections]\n",
    "    height_box = [vals[3] for vals in associated_detections]\n",
    "    angle_box = [vals[4] for vals in associated_detections]\n",
    "    \n",
    "    coord_detections = np.vstack(coord_detections)\n",
    "    coord_tracks = np.vstack(coord_tracks)\n",
    "    vel_tracks = np.vstack(vel_tracks)\n",
    "    \n",
    "    returndf = pd.DataFrame()\n",
    "#     print(coord_tracks)\n",
    "    returndf[\"X_track\"] = coord_tracks[:,0]\n",
    "    returndf[\"Y_track\"] = coord_tracks[:,1]\n",
    "    returndf[\"Z_track\"] = coord_tracks[:,2]\n",
    "#     print(returndf)\n",
    "#     print(track_id)\n",
    "    returndf[\"vx_track\"] = vel_tracks[:,0]\n",
    "    returndf[\"vy_track\"] = vel_tracks[:,1]\n",
    "    returndf[\"vz_track\"] = vel_tracks[:,2]\n",
    "    returndf[\"track_id\"] = track_id\n",
    "    returndf[\"obj_type\"] = object_type\n",
    "    returndf[\"track_status\"] = status_tracks\n",
    "    \n",
    "    returndf[\"X_box\"] = coord_detections[:,0]\n",
    "    returndf[\"Y_box\"] = coord_detections[:,1]\n",
    "    returndf[\"Z_box\"] = coord_detections[:,2]\n",
    "    returndf[\"length_box\"] = length_box\n",
    "    returndf[\"width_box\"] = width_box\n",
    "    returndf[\"height_box\"] = height_box\n",
    "    returndf[\"angle_box\"] = angle_box\n",
    "    \n",
    "    return returndf"
   ]
  },
  {
   "cell_type": "code",
   "execution_count": 94,
   "metadata": {},
   "outputs": [],
   "source": [
    "def h5_to_df(h5data):\n",
    "    \n",
    "    timestamps = h5data['Timestamp']\n",
    "    df = pd.DataFrame()\n",
    "    \n",
    "    for c, t in enumerate(timestamps):\n",
    "        d = h5data['Sequence'][str(c)]\n",
    "        track = np.asarray(d['Tracks'])\n",
    "        detection = np.asarray(d['Detections'])\n",
    "        if(track.shape[0]!=0 and detection.shape[0]!=0):\n",
    "            row = link_detections_tracks(detection, track)\n",
    "            append_df = link_detections_tracks(detection, track)\n",
    "            append_df['timestamp'] = t\n",
    "            df = df.append(append_df)\n",
    "        \n",
    "    return df"
   ]
  },
  {
   "cell_type": "code",
   "execution_count": 95,
   "metadata": {},
   "outputs": [],
   "source": [
    "df = h5_to_df(hdf5data)"
   ]
  },
  {
   "cell_type": "code",
   "execution_count": 96,
   "metadata": {},
   "outputs": [],
   "source": [
    "df.reset_index(inplace=True, drop=True)\n",
    "df\n",
    "df['camera'] = '109'"
   ]
  },
  {
   "cell_type": "code",
   "execution_count": 72,
   "metadata": {},
   "outputs": [
    {
     "data": {
      "text/plain": [
       "18    1252\n",
       "4     1206\n",
       "0      495\n",
       "34     299\n",
       "1      287\n",
       "Name: obj_type, dtype: int64"
      ]
     },
     "execution_count": 72,
     "metadata": {},
     "output_type": "execute_result"
    }
   ],
   "source": [
    "df['obj_type'].value_counts()"
   ]
  },
  {
   "cell_type": "code",
   "execution_count": 97,
   "metadata": {},
   "outputs": [],
   "source": [
    "hdf5data = h5py.File('../../Data/data_130.h5', 'r')\n",
    "newdf = h5_to_df(hdf5data)\n",
    "newdf['camera'] = '130'\n",
    "df = df.append(newdf)\n",
    "\n",
    "hdf5data = h5py.File('../../Data/data_142.h5', 'r')\n",
    "newdf = h5_to_df(hdf5data)\n",
    "newdf['camera'] = '142'\n",
    "df = df.append(newdf)\n",
    "\n",
    "hdf5data = h5py.File('../../Data/data_143.h5', 'r')\n",
    "newdf = h5_to_df(hdf5data)\n",
    "newdf['camera'] = '143'\n",
    "df = df.append(newdf)\n",
    "\n",
    "df.reset_index(inplace=True, drop=True)\n",
    "\n"
   ]
  },
  {
   "cell_type": "code",
   "execution_count": 98,
   "metadata": {},
   "outputs": [
    {
     "data": {
      "text/html": [
       "<div>\n",
       "<style scoped>\n",
       "    .dataframe tbody tr th:only-of-type {\n",
       "        vertical-align: middle;\n",
       "    }\n",
       "\n",
       "    .dataframe tbody tr th {\n",
       "        vertical-align: top;\n",
       "    }\n",
       "\n",
       "    .dataframe thead th {\n",
       "        text-align: right;\n",
       "    }\n",
       "</style>\n",
       "<table border=\"1\" class=\"dataframe\">\n",
       "  <thead>\n",
       "    <tr style=\"text-align: right;\">\n",
       "      <th></th>\n",
       "      <th>X_track</th>\n",
       "      <th>Y_track</th>\n",
       "      <th>Z_track</th>\n",
       "      <th>vx_track</th>\n",
       "      <th>vy_track</th>\n",
       "      <th>vz_track</th>\n",
       "      <th>track_id</th>\n",
       "      <th>obj_type</th>\n",
       "      <th>track_status</th>\n",
       "      <th>X_box</th>\n",
       "      <th>Y_box</th>\n",
       "      <th>Z_box</th>\n",
       "      <th>length_box</th>\n",
       "      <th>width_box</th>\n",
       "      <th>height_box</th>\n",
       "      <th>angle_box</th>\n",
       "      <th>timestamp</th>\n",
       "      <th>camera</th>\n",
       "    </tr>\n",
       "  </thead>\n",
       "  <tbody>\n",
       "    <tr>\n",
       "      <th>0</th>\n",
       "      <td>6.548051</td>\n",
       "      <td>26.367316</td>\n",
       "      <td>-0.847761</td>\n",
       "      <td>0.207261</td>\n",
       "      <td>0.359813</td>\n",
       "      <td>-0.045486</td>\n",
       "      <td>779</td>\n",
       "      <td>4</td>\n",
       "      <td>2</td>\n",
       "      <td>6.546980</td>\n",
       "      <td>26.314280</td>\n",
       "      <td>-0.862299</td>\n",
       "      <td>1.506848</td>\n",
       "      <td>0.592773</td>\n",
       "      <td>1.134711</td>\n",
       "      <td>0.424306</td>\n",
       "      <td>1.574333e+09</td>\n",
       "      <td>109</td>\n",
       "    </tr>\n",
       "    <tr>\n",
       "      <th>1</th>\n",
       "      <td>-11.134070</td>\n",
       "      <td>15.370831</td>\n",
       "      <td>-0.969107</td>\n",
       "      <td>0.393725</td>\n",
       "      <td>0.568159</td>\n",
       "      <td>0.052731</td>\n",
       "      <td>798</td>\n",
       "      <td>4</td>\n",
       "      <td>2</td>\n",
       "      <td>-11.148409</td>\n",
       "      <td>15.363879</td>\n",
       "      <td>-0.941920</td>\n",
       "      <td>1.177285</td>\n",
       "      <td>0.561967</td>\n",
       "      <td>1.334849</td>\n",
       "      <td>0.631927</td>\n",
       "      <td>1.574333e+09</td>\n",
       "      <td>109</td>\n",
       "    </tr>\n",
       "    <tr>\n",
       "      <th>2</th>\n",
       "      <td>-9.613478</td>\n",
       "      <td>18.832103</td>\n",
       "      <td>-1.370161</td>\n",
       "      <td>-0.963250</td>\n",
       "      <td>-1.160499</td>\n",
       "      <td>-0.050569</td>\n",
       "      <td>799</td>\n",
       "      <td>4</td>\n",
       "      <td>2</td>\n",
       "      <td>-9.560173</td>\n",
       "      <td>18.983654</td>\n",
       "      <td>-1.377405</td>\n",
       "      <td>3.325998</td>\n",
       "      <td>0.953963</td>\n",
       "      <td>1.498572</td>\n",
       "      <td>-0.120755</td>\n",
       "      <td>1.574333e+09</td>\n",
       "      <td>109</td>\n",
       "    </tr>\n",
       "    <tr>\n",
       "      <th>3</th>\n",
       "      <td>-9.071459</td>\n",
       "      <td>19.484619</td>\n",
       "      <td>-1.359802</td>\n",
       "      <td>1.584012</td>\n",
       "      <td>1.520616</td>\n",
       "      <td>-0.038735</td>\n",
       "      <td>801</td>\n",
       "      <td>1</td>\n",
       "      <td>2</td>\n",
       "      <td>-9.560173</td>\n",
       "      <td>18.983654</td>\n",
       "      <td>-1.377405</td>\n",
       "      <td>3.325998</td>\n",
       "      <td>0.953963</td>\n",
       "      <td>1.498572</td>\n",
       "      <td>-0.120755</td>\n",
       "      <td>1.574333e+09</td>\n",
       "      <td>109</td>\n",
       "    </tr>\n",
       "    <tr>\n",
       "      <th>4</th>\n",
       "      <td>3.386109</td>\n",
       "      <td>28.154275</td>\n",
       "      <td>-1.145692</td>\n",
       "      <td>0.035855</td>\n",
       "      <td>-1.227388</td>\n",
       "      <td>-0.713803</td>\n",
       "      <td>802</td>\n",
       "      <td>0</td>\n",
       "      <td>1</td>\n",
       "      <td>3.373729</td>\n",
       "      <td>28.175323</td>\n",
       "      <td>-1.134802</td>\n",
       "      <td>5.493111</td>\n",
       "      <td>1.930805</td>\n",
       "      <td>2.056836</td>\n",
       "      <td>1.514860</td>\n",
       "      <td>1.574333e+09</td>\n",
       "      <td>109</td>\n",
       "    </tr>\n",
       "    <tr>\n",
       "      <th>...</th>\n",
       "      <td>...</td>\n",
       "      <td>...</td>\n",
       "      <td>...</td>\n",
       "      <td>...</td>\n",
       "      <td>...</td>\n",
       "      <td>...</td>\n",
       "      <td>...</td>\n",
       "      <td>...</td>\n",
       "      <td>...</td>\n",
       "      <td>...</td>\n",
       "      <td>...</td>\n",
       "      <td>...</td>\n",
       "      <td>...</td>\n",
       "      <td>...</td>\n",
       "      <td>...</td>\n",
       "      <td>...</td>\n",
       "      <td>...</td>\n",
       "      <td>...</td>\n",
       "    </tr>\n",
       "    <tr>\n",
       "      <th>9823</th>\n",
       "      <td>14.436966</td>\n",
       "      <td>-29.002064</td>\n",
       "      <td>-1.011958</td>\n",
       "      <td>1.545032</td>\n",
       "      <td>-7.858073</td>\n",
       "      <td>-0.065161</td>\n",
       "      <td>803</td>\n",
       "      <td>18</td>\n",
       "      <td>2</td>\n",
       "      <td>14.492973</td>\n",
       "      <td>-28.899463</td>\n",
       "      <td>-1.058401</td>\n",
       "      <td>5.089359</td>\n",
       "      <td>2.800400</td>\n",
       "      <td>1.933282</td>\n",
       "      <td>-1.264048</td>\n",
       "      <td>1.574333e+09</td>\n",
       "      <td>143</td>\n",
       "    </tr>\n",
       "    <tr>\n",
       "      <th>9824</th>\n",
       "      <td>11.173455</td>\n",
       "      <td>-5.760234</td>\n",
       "      <td>-0.863561</td>\n",
       "      <td>-3.246541</td>\n",
       "      <td>-4.079700</td>\n",
       "      <td>-0.019370</td>\n",
       "      <td>806</td>\n",
       "      <td>18</td>\n",
       "      <td>2</td>\n",
       "      <td>11.161790</td>\n",
       "      <td>-5.686000</td>\n",
       "      <td>-0.918956</td>\n",
       "      <td>7.892776</td>\n",
       "      <td>3.048782</td>\n",
       "      <td>1.537738</td>\n",
       "      <td>0.864142</td>\n",
       "      <td>1.574333e+09</td>\n",
       "      <td>143</td>\n",
       "    </tr>\n",
       "    <tr>\n",
       "      <th>9825</th>\n",
       "      <td>15.856948</td>\n",
       "      <td>-36.512585</td>\n",
       "      <td>-1.213429</td>\n",
       "      <td>1.035487</td>\n",
       "      <td>-3.514035</td>\n",
       "      <td>0.136851</td>\n",
       "      <td>802</td>\n",
       "      <td>34</td>\n",
       "      <td>2</td>\n",
       "      <td>14.617583</td>\n",
       "      <td>-29.436074</td>\n",
       "      <td>-1.085488</td>\n",
       "      <td>5.046473</td>\n",
       "      <td>2.802799</td>\n",
       "      <td>1.898150</td>\n",
       "      <td>-1.309933</td>\n",
       "      <td>1.574333e+09</td>\n",
       "      <td>143</td>\n",
       "    </tr>\n",
       "    <tr>\n",
       "      <th>9826</th>\n",
       "      <td>14.576085</td>\n",
       "      <td>-29.577559</td>\n",
       "      <td>-1.024024</td>\n",
       "      <td>1.575933</td>\n",
       "      <td>-7.752716</td>\n",
       "      <td>-0.069387</td>\n",
       "      <td>803</td>\n",
       "      <td>18</td>\n",
       "      <td>2</td>\n",
       "      <td>14.617583</td>\n",
       "      <td>-29.436074</td>\n",
       "      <td>-1.085488</td>\n",
       "      <td>5.046473</td>\n",
       "      <td>2.802799</td>\n",
       "      <td>1.898150</td>\n",
       "      <td>-1.309933</td>\n",
       "      <td>1.574333e+09</td>\n",
       "      <td>143</td>\n",
       "    </tr>\n",
       "    <tr>\n",
       "      <th>9827</th>\n",
       "      <td>10.902688</td>\n",
       "      <td>-6.114106</td>\n",
       "      <td>-0.870722</td>\n",
       "      <td>-3.268619</td>\n",
       "      <td>-4.134517</td>\n",
       "      <td>-0.023247</td>\n",
       "      <td>806</td>\n",
       "      <td>18</td>\n",
       "      <td>2</td>\n",
       "      <td>10.872921</td>\n",
       "      <td>-6.188014</td>\n",
       "      <td>-0.909208</td>\n",
       "      <td>7.566915</td>\n",
       "      <td>3.033707</td>\n",
       "      <td>1.567966</td>\n",
       "      <td>0.852289</td>\n",
       "      <td>1.574333e+09</td>\n",
       "      <td>143</td>\n",
       "    </tr>\n",
       "  </tbody>\n",
       "</table>\n",
       "<p>9828 rows × 18 columns</p>\n",
       "</div>"
      ],
      "text/plain": [
       "        X_track    Y_track   Z_track  vx_track  vy_track  vz_track  track_id  \\\n",
       "0      6.548051  26.367316 -0.847761  0.207261  0.359813 -0.045486       779   \n",
       "1    -11.134070  15.370831 -0.969107  0.393725  0.568159  0.052731       798   \n",
       "2     -9.613478  18.832103 -1.370161 -0.963250 -1.160499 -0.050569       799   \n",
       "3     -9.071459  19.484619 -1.359802  1.584012  1.520616 -0.038735       801   \n",
       "4      3.386109  28.154275 -1.145692  0.035855 -1.227388 -0.713803       802   \n",
       "...         ...        ...       ...       ...       ...       ...       ...   \n",
       "9823  14.436966 -29.002064 -1.011958  1.545032 -7.858073 -0.065161       803   \n",
       "9824  11.173455  -5.760234 -0.863561 -3.246541 -4.079700 -0.019370       806   \n",
       "9825  15.856948 -36.512585 -1.213429  1.035487 -3.514035  0.136851       802   \n",
       "9826  14.576085 -29.577559 -1.024024  1.575933 -7.752716 -0.069387       803   \n",
       "9827  10.902688  -6.114106 -0.870722 -3.268619 -4.134517 -0.023247       806   \n",
       "\n",
       "      obj_type  track_status      X_box      Y_box     Z_box  length_box  \\\n",
       "0            4             2   6.546980  26.314280 -0.862299    1.506848   \n",
       "1            4             2 -11.148409  15.363879 -0.941920    1.177285   \n",
       "2            4             2  -9.560173  18.983654 -1.377405    3.325998   \n",
       "3            1             2  -9.560173  18.983654 -1.377405    3.325998   \n",
       "4            0             1   3.373729  28.175323 -1.134802    5.493111   \n",
       "...        ...           ...        ...        ...       ...         ...   \n",
       "9823        18             2  14.492973 -28.899463 -1.058401    5.089359   \n",
       "9824        18             2  11.161790  -5.686000 -0.918956    7.892776   \n",
       "9825        34             2  14.617583 -29.436074 -1.085488    5.046473   \n",
       "9826        18             2  14.617583 -29.436074 -1.085488    5.046473   \n",
       "9827        18             2  10.872921  -6.188014 -0.909208    7.566915   \n",
       "\n",
       "      width_box  height_box  angle_box     timestamp camera  \n",
       "0      0.592773    1.134711   0.424306  1.574333e+09    109  \n",
       "1      0.561967    1.334849   0.631927  1.574333e+09    109  \n",
       "2      0.953963    1.498572  -0.120755  1.574333e+09    109  \n",
       "3      0.953963    1.498572  -0.120755  1.574333e+09    109  \n",
       "4      1.930805    2.056836   1.514860  1.574333e+09    109  \n",
       "...         ...         ...        ...           ...    ...  \n",
       "9823   2.800400    1.933282  -1.264048  1.574333e+09    143  \n",
       "9824   3.048782    1.537738   0.864142  1.574333e+09    143  \n",
       "9825   2.802799    1.898150  -1.309933  1.574333e+09    143  \n",
       "9826   2.802799    1.898150  -1.309933  1.574333e+09    143  \n",
       "9827   3.033707    1.567966   0.852289  1.574333e+09    143  \n",
       "\n",
       "[9828 rows x 18 columns]"
      ]
     },
     "execution_count": 98,
     "metadata": {},
     "output_type": "execute_result"
    }
   ],
   "source": [
    "df"
   ]
  },
  {
   "cell_type": "markdown",
   "metadata": {},
   "source": [
    "Altre prove, ignorare"
   ]
  },
  {
   "cell_type": "code",
   "execution_count": 82,
   "metadata": {},
   "outputs": [],
   "source": [
    "# hdf5data = h5py.File('../../Data/data_130.h5', 'r')"
   ]
  },
  {
   "cell_type": "code",
   "execution_count": 87,
   "metadata": {},
   "outputs": [
    {
     "name": "stdout",
     "output_type": "stream",
     "text": [
      "0\n",
      "1\n",
      "2\n",
      "3\n",
      "4\n",
      "5\n",
      "6\n",
      "7\n",
      "8\n"
     ]
    },
    {
     "ename": "ValueError",
     "evalue": "XA must be a 2-dimensional array.",
     "output_type": "error",
     "traceback": [
      "\u001b[1;31m---------------------------------------------------------------------------\u001b[0m",
      "\u001b[1;31mValueError\u001b[0m                                Traceback (most recent call last)",
      "\u001b[1;32m<ipython-input-87-e33d3d9468b6>\u001b[0m in \u001b[0;36m<module>\u001b[1;34m\u001b[0m\n\u001b[0;32m      7\u001b[0m     \u001b[0mtrack\u001b[0m \u001b[1;33m=\u001b[0m \u001b[0mnp\u001b[0m\u001b[1;33m.\u001b[0m\u001b[0masarray\u001b[0m\u001b[1;33m(\u001b[0m\u001b[0md\u001b[0m\u001b[1;33m[\u001b[0m\u001b[1;34m'Tracks'\u001b[0m\u001b[1;33m]\u001b[0m\u001b[1;33m)\u001b[0m\u001b[1;33m\u001b[0m\u001b[1;33m\u001b[0m\u001b[0m\n\u001b[0;32m      8\u001b[0m     \u001b[0mdetection\u001b[0m \u001b[1;33m=\u001b[0m \u001b[0mnp\u001b[0m\u001b[1;33m.\u001b[0m\u001b[0masarray\u001b[0m\u001b[1;33m(\u001b[0m\u001b[0md\u001b[0m\u001b[1;33m[\u001b[0m\u001b[1;34m'Detections'\u001b[0m\u001b[1;33m]\u001b[0m\u001b[1;33m)\u001b[0m\u001b[1;33m\u001b[0m\u001b[1;33m\u001b[0m\u001b[0m\n\u001b[1;32m----> 9\u001b[1;33m     \u001b[0mrow\u001b[0m \u001b[1;33m=\u001b[0m \u001b[0mlink_detections_tracks\u001b[0m\u001b[1;33m(\u001b[0m\u001b[0mdetection\u001b[0m\u001b[1;33m,\u001b[0m \u001b[0mtrack\u001b[0m\u001b[1;33m)\u001b[0m\u001b[1;33m\u001b[0m\u001b[1;33m\u001b[0m\u001b[0m\n\u001b[0m\u001b[0;32m     10\u001b[0m     \u001b[0mappend_df\u001b[0m \u001b[1;33m=\u001b[0m \u001b[0mlink_detections_tracks\u001b[0m\u001b[1;33m(\u001b[0m\u001b[0mdetection\u001b[0m\u001b[1;33m,\u001b[0m \u001b[0mtrack\u001b[0m\u001b[1;33m)\u001b[0m\u001b[1;33m\u001b[0m\u001b[1;33m\u001b[0m\u001b[0m\n\u001b[0;32m     11\u001b[0m     \u001b[0mappend_df\u001b[0m\u001b[1;33m[\u001b[0m\u001b[1;34m'timestamp'\u001b[0m\u001b[1;33m]\u001b[0m \u001b[1;33m=\u001b[0m \u001b[0mt\u001b[0m\u001b[1;33m\u001b[0m\u001b[1;33m\u001b[0m\u001b[0m\n",
      "\u001b[1;32m<ipython-input-49-8a3defd9f873>\u001b[0m in \u001b[0;36mlink_detections_tracks\u001b[1;34m(detections, tracks)\u001b[0m\n\u001b[0;32m     10\u001b[0m     \u001b[1;31m# for the time being, let us associate the closest bounding box, even if it is assigned more than once\u001b[0m\u001b[1;33m\u001b[0m\u001b[1;33m\u001b[0m\u001b[1;33m\u001b[0m\u001b[0m\n\u001b[0;32m     11\u001b[0m \u001b[1;33m\u001b[0m\u001b[0m\n\u001b[1;32m---> 12\u001b[1;33m     \u001b[0mdists\u001b[0m \u001b[1;33m=\u001b[0m \u001b[0mcdist\u001b[0m\u001b[1;33m(\u001b[0m\u001b[0mcoord_tracks\u001b[0m\u001b[1;33m,\u001b[0m \u001b[0mcoord_detections\u001b[0m\u001b[1;33m,\u001b[0m \u001b[1;34m'euclidean'\u001b[0m\u001b[1;33m)\u001b[0m\u001b[1;33m\u001b[0m\u001b[1;33m\u001b[0m\u001b[0m\n\u001b[0m\u001b[0;32m     13\u001b[0m \u001b[1;31m#     print(dists)\u001b[0m\u001b[1;33m\u001b[0m\u001b[1;33m\u001b[0m\u001b[1;33m\u001b[0m\u001b[0m\n\u001b[0;32m     14\u001b[0m     \u001b[0massociations\u001b[0m \u001b[1;33m=\u001b[0m \u001b[0mnp\u001b[0m\u001b[1;33m.\u001b[0m\u001b[0margmin\u001b[0m\u001b[1;33m(\u001b[0m\u001b[0mdists\u001b[0m\u001b[1;33m,\u001b[0m \u001b[0maxis\u001b[0m\u001b[1;33m=\u001b[0m\u001b[1;36m1\u001b[0m\u001b[1;33m)\u001b[0m\u001b[1;33m\u001b[0m\u001b[1;33m\u001b[0m\u001b[0m\n",
      "\u001b[1;32m~\\anaconda3\\lib\\site-packages\\scipy\\spatial\\distance.py\u001b[0m in \u001b[0;36mcdist\u001b[1;34m(XA, XB, metric, *args, **kwargs)\u001b[0m\n\u001b[0;32m   2705\u001b[0m \u001b[1;33m\u001b[0m\u001b[0m\n\u001b[0;32m   2706\u001b[0m     \u001b[1;32mif\u001b[0m \u001b[0mlen\u001b[0m\u001b[1;33m(\u001b[0m\u001b[0ms\u001b[0m\u001b[1;33m)\u001b[0m \u001b[1;33m!=\u001b[0m \u001b[1;36m2\u001b[0m\u001b[1;33m:\u001b[0m\u001b[1;33m\u001b[0m\u001b[1;33m\u001b[0m\u001b[0m\n\u001b[1;32m-> 2707\u001b[1;33m         \u001b[1;32mraise\u001b[0m \u001b[0mValueError\u001b[0m\u001b[1;33m(\u001b[0m\u001b[1;34m'XA must be a 2-dimensional array.'\u001b[0m\u001b[1;33m)\u001b[0m\u001b[1;33m\u001b[0m\u001b[1;33m\u001b[0m\u001b[0m\n\u001b[0m\u001b[0;32m   2708\u001b[0m     \u001b[1;32mif\u001b[0m \u001b[0mlen\u001b[0m\u001b[1;33m(\u001b[0m\u001b[0msB\u001b[0m\u001b[1;33m)\u001b[0m \u001b[1;33m!=\u001b[0m \u001b[1;36m2\u001b[0m\u001b[1;33m:\u001b[0m\u001b[1;33m\u001b[0m\u001b[1;33m\u001b[0m\u001b[0m\n\u001b[0;32m   2709\u001b[0m         \u001b[1;32mraise\u001b[0m \u001b[0mValueError\u001b[0m\u001b[1;33m(\u001b[0m\u001b[1;34m'XB must be a 2-dimensional array.'\u001b[0m\u001b[1;33m)\u001b[0m\u001b[1;33m\u001b[0m\u001b[1;33m\u001b[0m\u001b[0m\n",
      "\u001b[1;31mValueError\u001b[0m: XA must be a 2-dimensional array."
     ]
    }
   ],
   "source": [
    "# timestamps = h5data['Timestamp']\n",
    "# df = pd.DataFrame()\n",
    "\n",
    "# for c, t in enumerate(timestamps):\n",
    "#     print(c)\n",
    "#     d = h5data['Sequence'][str(c)]\n",
    "#     track = np.asarray(d['Tracks'])\n",
    "#     detection = np.asarray(d['Detections'])\n",
    "#     row = link_detections_tracks(detection, track)\n",
    "#     append_df = link_detections_tracks(detection, track)\n",
    "#     append_df['timestamp'] = t\n",
    "#     df = df.append(append_df)"
   ]
  },
  {
   "cell_type": "code",
   "execution_count": 91,
   "metadata": {},
   "outputs": [
    {
     "data": {
      "text/plain": [
       "0"
      ]
     },
     "execution_count": 91,
     "metadata": {},
     "output_type": "execute_result"
    }
   ],
   "source": [
    "track.shape[0]"
   ]
  },
  {
   "cell_type": "code",
   "execution_count": 80,
   "metadata": {},
   "outputs": [
    {
     "data": {
      "text/plain": [
       "array([(779, (  6.54805055, 26.36731614, -0.8477613 ), ( 0.20726114,  0.35981265, -0.04548636), 4, 2),\n",
       "       (798, (-11.13406957, 15.3708309 , -0.96910705), ( 0.39372463,  0.56815921,  0.05273093), 4, 2),\n",
       "       (799, ( -9.61347787, 18.83210327, -1.37016058), (-0.96325019, -1.16049863, -0.05056859), 4, 2),\n",
       "       (801, ( -9.07145892, 19.48461852, -1.35980242), ( 1.58401159,  1.52061556, -0.03873475), 1, 2),\n",
       "       (802, (  3.38610916, 28.15427521, -1.14569238), ( 0.03585469, -1.22738848, -0.71380273), 0, 1)],\n",
       "      dtype=[('TrackId', '<i8'), ('Pos', [('X', '<f8'), ('Y', '<f8'), ('Z', '<f8')]), ('Vel', [('X', '<f8'), ('Y', '<f8'), ('Z', '<f8')]), ('ClassId', '<u4'), ('Status', '<i4')])"
      ]
     },
     "execution_count": 80,
     "metadata": {},
     "output_type": "execute_result"
    }
   ],
   "source": [
    "np.array(hdf5data['Sequence']['0']['Tracks'])"
   ]
  },
  {
   "cell_type": "code",
   "execution_count": 78,
   "metadata": {},
   "outputs": [
    {
     "data": {
      "text/plain": [
       "X_track             6.54805\n",
       "Y_track             26.3673\n",
       "Z_track           -0.847761\n",
       "vx_track           0.207261\n",
       "vy_track           0.359813\n",
       "vz_track         -0.0454864\n",
       "track_id                779\n",
       "obj_type                  4\n",
       "track_status              2\n",
       "X_box               6.54698\n",
       "Y_box               26.3143\n",
       "Z_box             -0.862299\n",
       "length_box          1.50685\n",
       "width_box          0.592773\n",
       "height_box          1.13471\n",
       "angle_box          0.424306\n",
       "timestamp       1.57433e+09\n",
       "camera                  109\n",
       "Name: 0, dtype: object"
      ]
     },
     "execution_count": 78,
     "metadata": {},
     "output_type": "execute_result"
    }
   ],
   "source": [
    "df.loc[0]"
   ]
  },
  {
   "cell_type": "code",
   "execution_count": 56,
   "metadata": {},
   "outputs": [],
   "source": [
    "# c=0\n",
    "# d = hdf5data['Sequence'][str(c)]\n",
    "# track = np.asarray(d['Tracks'])\n",
    "# detection = np.asarray(d['Detections'])\n",
    "# row = link_detections_tracks(detection, track)\n",
    "# append_df = link_detections_tracks(detection, track)\n",
    "# append_df['timestamp'] = 2"
   ]
  },
  {
   "cell_type": "code",
   "execution_count": 85,
   "metadata": {},
   "outputs": [
    {
     "name": "stdout",
     "output_type": "stream",
     "text": [
      "<class 'numpy.ndarray'>\n"
     ]
    }
   ],
   "source": [
    "# c=0\n",
    "# d = hdf5data['Sequence'][str(c)]\n",
    "# track = np.asarray(d['Tracks'])\n",
    "# detection = np.asarray(d['Detections'])\n",
    "\n",
    "# coord_detections = [np.asarray(vals[0].tolist()) for vals in detection]\n",
    "# coord_tracks = [np.asarray(vals[1].tolist()) for vals in track]\n",
    "# dists = cdist(coord_tracks, coord_detections, 'euclidean')\n",
    "# print(type(dists))"
   ]
  }
 ],
 "metadata": {
  "kernelspec": {
   "display_name": "Python 3",
   "language": "python",
   "name": "python3"
  },
  "language_info": {
   "codemirror_mode": {
    "name": "ipython",
    "version": 3
   },
   "file_extension": ".py",
   "mimetype": "text/x-python",
   "name": "python",
   "nbconvert_exporter": "python",
   "pygments_lexer": "ipython3",
   "version": "3.8.3"
  }
 },
 "nbformat": 4,
 "nbformat_minor": 5
}
