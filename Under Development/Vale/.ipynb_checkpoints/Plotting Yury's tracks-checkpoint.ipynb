{
 "cells": [
  {
   "cell_type": "code",
   "execution_count": 1,
   "id": "69e496aa",
   "metadata": {},
   "outputs": [],
   "source": [
    "import h5py\n",
    "import numpy as np\n",
    "import os\n",
    "import pandas as pd\n",
    "from matplotlib import pyplot as plt\n",
    "from tqdm import tqdm\n",
    "from PIL import Image\n",
    "import scipy\n",
    "from scipy.spatial.distance import cdist\n",
    "from filterpy.kalman import KalmanFilter\n",
    "from copy import copy\n",
    "from scipy import stats\n",
    "pd.options.mode.chained_assignment = None\n",
    "import time, random"
   ]
  },
  {
   "cell_type": "code",
   "execution_count": 4,
   "id": "2e03b4f2",
   "metadata": {},
   "outputs": [],
   "source": [
    "OT = h5py.File('../../Data/Koelliken_OfflineTracks_Complete_11-21-201911454711-21-2019114647.h5')"
   ]
  },
  {
   "cell_type": "code",
   "execution_count": 3,
   "id": "e0a410a8",
   "metadata": {},
   "outputs": [],
   "source": [
    "# upload data \n",
    "hdf5data_109 = h5py.File('../../Data/data_109.h5', 'r')\n",
    "hdf5data_130 = h5py.File('../../Data/data_130.h5', 'r')\n",
    "hdf5data_142 = h5py.File('../../Data/data_142.h5', 'r')\n",
    "hdf5data_143 = h5py.File('../../Data/data_143.h5', 'r')"
   ]
  },
  {
   "cell_type": "code",
   "execution_count": null,
   "id": "3aaecd09",
   "metadata": {},
   "outputs": [],
   "source": []
  },
  {
   "cell_type": "code",
   "execution_count": 14,
   "id": "a34e2fd2",
   "metadata": {},
   "outputs": [
    {
     "data": {
      "text/plain": [
       "array(<KeysViewHDF5 ['Acceleration_ms2', 'Attributes', 'Heading_rad', 'Height_m', 'Lat_sweref99', 'Length_m', 'Lon_sweref99', 'Object_class', 'Predictions_time', 'Predictions_x', 'Predictions_y', 'Timestamps_UNIX', 'TrackHasAccelerationOver10', 'TrackHasAccelerationOver15', 'TrackHasHeadingDifferenceAbovePI_6', 'TrackHasSpeedOver500', 'TrackIsNotComplete', 'TrackIsRealistic', 'Velocity_ms', 'Width_m', 'X_local_coordinate_system', 'Y_local_coordinate_system', 'Z_local_coordinate_system']>,\n",
       "      dtype=object)"
      ]
     },
     "execution_count": 14,
     "metadata": {},
     "output_type": "execute_result"
    }
   ],
   "source": [
    "np.array(OT['Tracks']['0']['States'].keys())"
   ]
  },
  {
   "cell_type": "code",
   "execution_count": null,
   "id": "3a488500",
   "metadata": {},
   "outputs": [],
   "source": [
    "# def df_tracks(h5data,camera = None):\n",
    "    \n",
    "#     timestamps = h5data['Timestamp']\n",
    "#     df = pd.DataFrame()\n",
    "    \n",
    "#     for c, t in enumerate(timestamps):\n",
    "        \n",
    "#         append_df = pd.DataFrame()\n",
    "        \n",
    "#         d = h5data['Sequence'][str(c)]\n",
    "#         tracks = np.asarray(d['Tracks'])\n",
    "        \n",
    "#         if detection.size:\n",
    "#             append_df = fill_rows_detections(tracks, append_df)\n",
    "#             append_df['timestamp'] = t\n",
    "#             append_df['frame'] = c\n",
    "        \n",
    "#             if camera is not None:\n",
    "#                 append_df['camera'] = camera\n",
    "        \n",
    "#             df = df.append(append_df)\n",
    "    \n",
    "#     return df"
   ]
  }
 ],
 "metadata": {
  "kernelspec": {
   "display_name": "Python 3 (ipykernel)",
   "language": "python",
   "name": "python3"
  },
  "language_info": {
   "codemirror_mode": {
    "name": "ipython",
    "version": 3
   },
   "file_extension": ".py",
   "mimetype": "text/x-python",
   "name": "python",
   "nbconvert_exporter": "python",
   "pygments_lexer": "ipython3",
   "version": "3.9.7"
  }
 },
 "nbformat": 4,
 "nbformat_minor": 5
}
